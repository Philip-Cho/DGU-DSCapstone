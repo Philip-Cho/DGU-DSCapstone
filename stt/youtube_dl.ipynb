{
 "cells": [
  {
   "cell_type": "code",
   "execution_count": 1,
   "id": "035666d8",
   "metadata": {},
   "outputs": [],
   "source": [
    "# pip install youtube_dl"
   ]
  },
  {
   "cell_type": "code",
   "execution_count": 2,
   "id": "3e96a728",
   "metadata": {},
   "outputs": [],
   "source": [
    "# pip install ffmpeg"
   ]
  },
  {
   "cell_type": "code",
   "execution_count": 3,
   "id": "c7cf6121",
   "metadata": {},
   "outputs": [],
   "source": [
    "from __future__ import unicode_literals \n",
    "import youtube_dl\n",
    "\n",
    "def downYoutubeMp3(url):\n",
    "    ydl_opts = {\n",
    "        'format': 'bestaudio/best',\n",
    "        'postprocessors': [{\n",
    "            'key': 'FFmpegExtractAudio',\n",
    "            'preferredcodec': 'flac',\n",
    "            'preferredquality': '192',\n",
    "        }],\n",
    "    }\n",
    "    \n",
    "    with youtube_dl.YoutubeDL(ydl_opts) as ydl:\n",
    "        ydl.download([url])"
   ]
  },
  {
   "cell_type": "code",
   "execution_count": 4,
   "id": "fa8532cf",
   "metadata": {},
   "outputs": [
    {
     "name": "stdout",
     "output_type": "stream",
     "text": [
      "[youtube] 8jQ7q3UeyiE: Downloading webpage\n",
      "[youtube] 8jQ7q3UeyiE: Downloading MPD manifest\n",
      "[download] 075-Clustering algorithms-8jQ7q3UeyiE.m4a has already been downloaded\n",
      "[download] 100% of 4.56MiB\n",
      "[ffmpeg] Correcting container in \"075-Clustering algorithms-8jQ7q3UeyiE.m4a\"\n",
      "[ffmpeg] Destination: 075-Clustering algorithms-8jQ7q3UeyiE.flac\n",
      "Deleting original file 075-Clustering algorithms-8jQ7q3UeyiE.m4a (pass -k to keep)\n"
     ]
    }
   ],
   "source": [
    "if __name__ == '__main__':\n",
    "    downYoutubeMp3(\"https://www.youtube.com/watch?v=8jQ7q3UeyiE\")"
   ]
  }
 ],
 "metadata": {
  "kernelspec": {
   "display_name": "Python 3 (ipykernel)",
   "language": "python",
   "name": "python3"
  },
  "language_info": {
   "codemirror_mode": {
    "name": "ipython",
    "version": 3
   },
   "file_extension": ".py",
   "mimetype": "text/x-python",
   "name": "python",
   "nbconvert_exporter": "python",
   "pygments_lexer": "ipython3",
   "version": "3.9.7"
  }
 },
 "nbformat": 4,
 "nbformat_minor": 5
}
