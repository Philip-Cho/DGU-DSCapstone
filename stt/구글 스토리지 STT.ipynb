{
 "cells": [
  {
   "cell_type": "markdown",
   "id": "b2933c06",
   "metadata": {},
   "source": [
    "## 구글 스토리지에 있는 파일로 STT"
   ]
  },
  {
   "cell_type": "code",
   "execution_count": 1,
   "id": "a80ac49a",
   "metadata": {},
   "outputs": [],
   "source": [
    "import os, os.path\n",
    "os.environ[\"GOOGLE_APPLICATION_CREDENTIALS\"]=\"C:/Users/심종수/Desktop/########.json\"\n",
    "\n",
    "from google.cloud import speech\n",
    "\n",
    "def transcribe_gcs(gcs_uri):\n",
    "\n",
    "    client = speech.SpeechClient()\n",
    "    audio = speech.RecognitionAudio(uri=gcs_uri)\n",
    "    config = speech.RecognitionConfig(\n",
    "        # wav 파일이므로 Linear16, Flac 파일은 FLAC\n",
    "        encoding=speech.RecognitionConfig.AudioEncoding.LINEAR16,\n",
    "        # hertz 16000, 44100(2개의 오디오 채널), Flac은 또 다르다.\n",
    "        sample_rate_hertz=44100,\n",
    "        language_code=\"en-US\",\n",
    "        # 2개의 오디오 채널\n",
    "        audio_channel_count=2,\n",
    "        enable_separate_recognition_per_channel=True)\n",
    "    \n",
    "    operation = client.long_running_recognize(config=config, audio=audio)\n",
    "    response = operation.result()\n",
    "    return response"
   ]
  },
  {
   "cell_type": "code",
   "execution_count": 2,
   "id": "6bc3a2d9",
   "metadata": {},
   "outputs": [],
   "source": [
    "### \"gs://[버킷이름]/[파일명]\"\n",
    "response = transcribe_gcs(\"gs://######/Logistic.wav\")"
   ]
  },
  {
   "cell_type": "code",
   "execution_count": 25,
   "id": "b33801c2",
   "metadata": {},
   "outputs": [
    {
     "name": "stdout",
     "output_type": "stream",
     "text": [
      "if you can you can you can make me giggle  I'm Josh Dahmer and today we're going to talk about logistic regression this is a technique that can be used for traditional statistics as well as machine learning so let's get right to it before we dive into logistic regression let's take a step back and review linear regression  in another statquest we talked about linear regression  we had some data  weight and size  then we fit a line to it  and with that line we could do a lot of things  first we could calculate r squared and determine if weight and size are correlated large values imply a large effect  and second calculator to determine if the r-squared value is significant  I'm sure we could use the line for dick size given weight  A new mouse has this wait  and this is the size that we forget from the wait  although we didn't mention it at the time using data to predict something under the category of machine learning  the Plano Gresham is a form of machine learning  we also talked a little bit about multiple regression  now we are trying to predict size using weight and blood volume  alternative we could say that we are trying to model size using weight and blood volume  regression did the same things that normal regression did  we calculated r squared  Andre calculated the p-value and we could predict using weight and blood volume  and this makes multiple regression a slightly fancier machine learning method  we also talked about how we can use the screen measurements like Gina type to predict size if you're not familiar with the term genotype don't freak out it's no big deal just know that it refers to different types of mice  lastly we could compare models  using Voice  and we can compare those predictions to the ones we get from multiple regression where were using weight and blood volume to predict size comparing the simple model to the complicated one tells us if we need to measure weight and blood volume to accurately predict or if we can get away with it now that we remember all the things we can do with linear regression let's talk about logistic regression  Mystic regression is similar to linear regression except  logistic regression predicts whether something is true or false instead of protecting something continuous like saws  these mice are obese  these mice are not  also instead of putting a line to the data logistic regression fits an S shape logistic function  the curve goes from 0 to 1  and that means that the curve tells you the probability that a mouse is obese based on its weight  if we weighed a very heavy Mouse there is a high probability that the new mouse is obese  if we weighed an intermediate Mouse  then there is only a 50% chance  there's only a small probability that a light Mouse is obese  although logistic regression tells the probability that a mouse is obese or not it's usually used for classification  for example if the probability of mouse is obese is greater than 50% in will classify as obese otherwise will classify as not obese  just like with linear regression we can make simple models in this case we can have obesity predicted by weight  or more complicated models in this case obesity is predicted by weight and genotype  in this case obesity is predicted by weight and genotype and age  and lastly obesity is predicted by weight genotype age and astrological sign  in other words just like linear regression logistic regression can work with continuous data like a weight and age and discrete data like genotype and astrological sign  we can also test to see if each variable is useful for predicting obesity  however unlike normal regression we can't easily compare the complicated model to the simple model and we'll talk more about why in a bit  instead we just test to see if a variable is effect on the prediction is significantly different from zero  if not it means that the variable is not helping to prediction  we use Wald test to figure this out we'll talk about that in another stack Quest  in this case the astrological sign is totes useless  that's specifically jargon for not helping  that means we can save time by leaving now  logistic regression ability to provide probabilities and classify new samples using continuous and discrete measurement makes it a popular one big difference between linear regression and logistic regression is how the line is fit to the data  with linear regression we fit the line using least squares  in other words we find a line that minimizes the sum of the squares of these residuals  we also use the residuals to calculate r squared and to compare simple models too complicated models  logistic regression doesn't have the same concept of a residual can't use least squares and it can't calculate r squared  something called maximum likelihood  there's a whole stack Quest on maximum likelihood to see that for details but in a nutshell you pick a probability scale by weight of observing a beast Mouse just like this curve  and you use that serving non-obese mouse that weighs this much  and then you calculate the likelihood of observing this mouse  and you do that for all of them ice  and lastly you multiply all of those likelihoods together that's the likelihood of the data given this line  then you shift the line and calculate a new likelihood of the data  and then ship the line and calculate the likelihood again  and again  the curve with a maximum value for the likelihood is selected  damn  in summary logistic regression can be used to classify samples  and it can use different types of data like size and or Gina type to do that classification  and it can also be used with sex what variables are useful for classifying samples astrological sign is toast useless  we made it to the end of another exciting you like this more until next time \n",
      "\n",
      "if you can you can you can make me giggle  I'm Josh Dahmer and today we're going to talk about logistic regression this is a technique that can be used for traditional statistics as well as machine learning so let's get right to it before we dive into logistic regression let's take a step back and review linear regression  in another statquest we talked about linear regression  we had some data  weight and size  then we fit a line to it  and with that line we could do a lot of things  first we could calculate r squared and determine if weight and size are correlated large values imply a large effect  and second calculator to determine if the r-squared value is significant  I'm sure we could use the line for dick size given weight  A new mouse has this wait  and this is the size that we forget from the wait  although we didn't mention it at the time using data to predict something under the category of machine learning  the Plano Gresham is a form of machine learning  we also talked a little bit about multiple regression  now we are trying to predict size using weight and blood volume  alternative we could say that we are trying to model size using weight and blood volume  regression did the same things that normal regression did  we calculated r squared  Andre calculated the p-value and we could predict using weight and blood volume  and this makes multiple regression a slightly fancier machine learning method  we also talked about how we can use the screen measurements like Gina type to predict size if you're not familiar with the term genotype don't freak out it's no big deal just know that it refers to different types of mice  lastly we could compare models  using Voice  and we can compare those predictions to the ones we get from multiple regression where were using weight and blood volume to predict size comparing the simple model to the complicated one tells us if we need to measure weight and blood volume to accurately predict or if we can get away with it now that we remember all the things we can do with linear regression let's talk about logistic regression  Mystic regression is similar to linear regression except  logistic regression predicts whether something is true or false instead of protecting something continuous like saws  these mice are obese  these mice are not  also instead of putting a line to the data logistic regression fits an S shape logistic function  the curve goes from 0 to 1  and that means that the curve tells you the probability that a mouse is obese based on its weight  if we weighed a very heavy Mouse there is a high probability that the new mouse is obese  if we weighed an intermediate Mouse  then there is only a 50% chance  there's only a small probability that a light Mouse is obese  although logistic regression tells the probability that a mouse is obese or not it's usually used for classification  for example if the probability of mouse is obese is greater than 50% in will classify as obese otherwise will classify as not obese  just like with linear regression we can make simple models in this case we can have obesity predicted by weight  or more complicated models in this case obesity is predicted by weight and genotype  in this case obesity is predicted by weight and genotype and age  and lastly obesity is predicted by weight genotype age and astrological sign  in other words just like linear regression logistic regression can work with continuous data like a weight and age and discrete data like genotype and astrological sign  we can also test to see if each variable is useful for predicting obesity  however unlike normal regression we can't easily compare the complicated model to the simple model and we'll talk more about why in a bit  instead we just test to see if a variable is effect on the prediction is significantly different from zero  if not it means that the variable is not helping to prediction  we use Wald test to figure this out we'll talk about that in another stack Quest  in this case the astrological sign is totes useless  that's specifically jargon for not helping  that means we can save time by leaving now  logistic regression ability to provide probabilities and classify new samples using continuous and discrete measurement makes it a popular one big difference between linear regression and logistic regression is how the line is fit to the data  with linear regression we fit the line using least squares  in other words we find a line that minimizes the sum of the squares of these residuals  we also use the residuals to calculate r squared and to compare simple models too complicated models  logistic regression doesn't have the same concept of a residual can't use least squares and it can't calculate r squared  something called maximum likelihood  there's a whole stack Quest on maximum likelihood to see that for details but in a nutshell you pick a probability scale by weight of observing a beast Mouse just like this curve  and you use that serving non-obese mouse that weighs this much  and then you calculate the likelihood of observing this mouse  and you do that for all of them ice  and lastly you multiply all of those likelihoods together that's the likelihood of the data given this line  then you shift the line and calculate a new likelihood of the data  and then ship the line and calculate the likelihood again  and again  the curve with a maximum value for the likelihood is selected  damn  in summary logistic regression can be used to classify samples  and it can use different types of data like size and or Gina type to do that classification  and it can also be used with sex what variables are useful for classifying samples astrological sign is toast useless  we made it to the end of another exciting you like this more until next time \n"
     ]
    }
   ],
   "source": [
    "text_2 = ''\n",
    "text_1 = ''\n",
    "\n",
    "for result in response.results:\n",
    "    if result.channel_tag == 2:\n",
    "        text_2 += result.alternatives[0].transcript + ' '\n",
    "    else:\n",
    "        text_1 += result.alternatives[0].transcript + ' '\n",
    "    \n",
    "print(text_2)\n",
    "print()\n",
    "print(text_1)"
   ]
  }
 ],
 "metadata": {
  "kernelspec": {
   "display_name": "Python [conda env:summ]",
   "language": "python",
   "name": "conda-env-summ-py"
  },
  "language_info": {
   "codemirror_mode": {
    "name": "ipython",
    "version": 3
   },
   "file_extension": ".py",
   "mimetype": "text/x-python",
   "name": "python",
   "nbconvert_exporter": "python",
   "pygments_lexer": "ipython3",
   "version": "3.8.13"
  }
 },
 "nbformat": 4,
 "nbformat_minor": 5
}
