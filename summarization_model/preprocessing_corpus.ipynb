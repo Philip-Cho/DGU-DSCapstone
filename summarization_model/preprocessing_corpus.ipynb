{
 "cells": [
  {
   "cell_type": "markdown",
   "id": "21b4a822",
   "metadata": {},
   "source": [
    "### 선행 작업\n",
    "1. wget으로 데이터 압축파일(.gz) 다운로드\n",
    "2. 모든 압축파일 압출 풀기"
   ]
  },
  {
   "cell_type": "code",
   "execution_count": 2,
   "id": "c6e86c20",
   "metadata": {},
   "outputs": [],
   "source": [
    "import os\n",
    "import jsonlines\n",
    "import json\n",
    "import re\n",
    "import string\n",
    "import nltk\n",
    "from nltk.data import load"
   ]
  },
  {
   "cell_type": "code",
   "execution_count": 26,
   "id": "b578b469",
   "metadata": {},
   "outputs": [],
   "source": [
    "start_file = 10   # s2-corpus-000 등 파일 번호\n",
    "end_file = 99\n",
    "data_dir = 'C:/Users/lynn1/OneDrive/바탕 화면/Capstone/data/open_research'\n",
    "\n",
    "# for i in range(start_file, end_file+1):\n",
    "#     old_name = data_dir + '/s2-corpus-00{}'.format(i)\n",
    "#     new_name = old_name + '.json'\n",
    "#     os.rename(old_name, new_name)"
   ]
  },
  {
   "cell_type": "code",
   "execution_count": 22,
   "id": "eef3a37c",
   "metadata": {},
   "outputs": [],
   "source": [
    "nltk.download('punkt')\n",
    "\n",
    "tokenizer = load('tokenizers/punkt/english.pickle')   # nltk.sent_tokenizer가 불러오는 파일\n",
    "extra_abbreviation = [    \n",
    "    'RE', 're', 'pat', 'no', 'nos', 'vol', 'jan', 'feb', 'mar', 'apr', 'jun', 'jul', 'aug', 'sep', 'oct', 'nov', 'dec',\n",
    "    'eng', 'ser', 'ind', 'ed', 'pp', 'e.g', 'al', 'T.E.N.S', 'E.M.S', 'F.E', 'U.H.T.S.T', 'degree', '/g', 'm',\n",
    "    'A', 'B', 'C', 'D', 'E', 'F', 'G', 'H', 'I', 'J', 'K', 'L', 'M', 'N', 'O', 'P', 'Q', 'R', 'S', 'T', 'U', 'V', 'W', 'Y', 'Z'\n",
    "]\n",
    "tokenizer._params.abbrev_types.update(extra_abbreviation)   # _params로 파라미터에 직접 접근, 업데이트"
   ]
  },
  {
   "cell_type": "code",
   "execution_count": null,
   "id": "a5d00c95",
   "metadata": {},
   "outputs": [],
   "source": [
    "# paperAbstract 데이터만 추출\n",
    "for i in range(start_file, end_file+1):\n",
    "    if i<10:\n",
    "        idx = '00{}'.format(i)\n",
    "    elif i<100:\n",
    "        idx = '0{}'.format(i)\n",
    "    else:\n",
    "        idx = '{}'.format(i)\n",
    "        \n",
    "    with jsonlines.open(data_dir+'/s2-corpus-{}'.format(idx), 'r') as file:\n",
    "        data_lst = [line['paperAbstract'] for line in file if line['paperAbstract']!='']"
   ]
  },
  {
   "cell_type": "code",
   "execution_count": 20,
   "id": "76d3db95",
   "metadata": {
    "scrolled": true
   },
   "outputs": [
    {
     "data": {
      "text/plain": [
       "'We analyzed the expression of high in normal-1 (HIN-1), a putative breast tumor suppressor gene, and uteroglobin related protein-1 (UGRP-1), a homologue of HIN-1, in adult and developing mouse tissues. Highest HIN-1 and UGRP-1 expression is detected in the lung, while lower level HIN-1 expression is also detected in the stomach, heart, small intestine, uterine and mammary glands. The expression of both genes was detected only at E17.5-18.5 and the HIN-1 messenger RNA was localized to the epithelia of the trachea, bronchi, and uterine glands. The expression of HIN-1 is up-regulated during retinoic acid induced differentiation of bronchial epithelial cells. We also identified two putative Drosophila HIN-1 homologues. The expression of HIN-1 is restricted to terminally differentiated airway epithelial cells in vivo and in vitro implicating HIN-1 in the acquisition or maintenance of terminally differentiated epithelial phenotype.'"
      ]
     },
     "execution_count": 20,
     "metadata": {},
     "output_type": "execute_result"
    }
   ],
   "source": [
    "data_lst[0]"
   ]
  },
  {
   "cell_type": "code",
   "execution_count": 25,
   "id": "3d7f1d46",
   "metadata": {},
   "outputs": [],
   "source": [
    "# 모든 코퍼스 파일의 paperAbstract 문장으로 분리하여 txt 파일에 저장(계속 이어씀)\n",
    "sent_file = open(data_dir+'/nltk_sents.txt', 'a', encoding='utf-8')\n",
    "no_blank = False\n",
    "for line in data_lst:\n",
    "    if line=='':\n",
    "        break\n",
    "    if line.strip()=='':\n",
    "        if no_blank:\n",
    "            continue\n",
    "        sent_file.write(f'{line}')\n",
    "    else:\n",
    "        result_ = nltk.sent_tokenize(line)   # 문장 구조 학습한 모델 -> 약어에 쓰이는 마침표 등 학습됨\n",
    "        result = [f'{cul_line}\\n' for cul_line in result_]\n",
    "        for save_line in result:\n",
    "            sent_file.write(save_line)\n",
    "            \n",
    "sent_file.close()"
   ]
  },
  {
   "cell_type": "code",
   "execution_count": null,
   "id": "6b9093cd",
   "metadata": {},
   "outputs": [],
   "source": []
  }
 ],
 "metadata": {
  "kernelspec": {
   "display_name": "pytorch_1",
   "language": "python",
   "name": "pytorch_1"
  },
  "language_info": {
   "codemirror_mode": {
    "name": "ipython",
    "version": 3
   },
   "file_extension": ".py",
   "mimetype": "text/x-python",
   "name": "python",
   "nbconvert_exporter": "python",
   "pygments_lexer": "ipython3",
   "version": "3.9.7"
  }
 },
 "nbformat": 4,
 "nbformat_minor": 5
}
