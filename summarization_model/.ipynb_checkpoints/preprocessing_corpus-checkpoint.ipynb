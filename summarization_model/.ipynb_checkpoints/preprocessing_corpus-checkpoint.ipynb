{
 "cells": [
  {
   "cell_type": "markdown",
   "id": "89f0ac0e",
   "metadata": {},
   "source": [
    "### 선행 작업\n",
    "1. wget으로 데이터 압축파일(.gz) 다운로드\n",
    "2. 모든 압축파일 압출 풀기"
   ]
  },
  {
   "cell_type": "code",
   "execution_count": 2,
   "id": "c6e86c20",
   "metadata": {},
   "outputs": [],
   "source": [
    "import os\n",
    "import jsonlines\n",
    "import json\n",
    "import re\n",
    "import string\n",
    "import nltk\n",
    "from nltk.data import load"
   ]
  },
  {
   "cell_type": "code",
   "execution_count": 50,
   "id": "301b48d1",
   "metadata": {
    "scrolled": true
   },
   "outputs": [
    {
     "name": "stderr",
     "output_type": "stream",
     "text": [
      "[nltk_data] Downloading package punkt to\n",
      "[nltk_data]     C:\\Users\\lynn1\\AppData\\Roaming\\nltk_data...\n",
      "[nltk_data]   Package punkt is already up-to-date!\n"
     ]
    }
   ],
   "source": [
    "nltk.download('punkt')\n",
    "\n",
    "tokenizer = load('tokenizers/punkt/english.pickle')   # nltk.sent_tokenizer가 불러오는 파일\n",
    "extra_abbreviation = [    \n",
    "    'RE', 're', 'pat', 'no', 'nos', 'vol', 'jan', 'feb', 'mar', 'apr', 'jun', 'jul', 'aug', 'sep', 'oct', 'nov', 'dec',\n",
    "    'eng', 'ser', 'ind', 'ed', 'pp', 'e.g', 'al', 'T.E.N.S', 'E.M.S', 'F.E', 'U.H.T.S.T', 'degree', '/g', 'm',\n",
    "    'A', 'B', 'C', 'D', 'E', 'F', 'G', 'H', 'I', 'J', 'K', 'L', 'M', 'N', 'O', 'P', 'Q', 'R', 'S', 'T', 'U', 'V', 'W', 'Y', 'Z'\n",
    "]\n",
    "tokenizer._params.abbrev_types.update(extra_abbreviation)   # _params로 파라미터에 직접 접근, 업데이트"
   ]
  },
  {
   "cell_type": "markdown",
   "id": "9acb8717",
   "metadata": {},
   "source": [
    "#### 지정 필요\n",
    "- start_file(파일 시작 번호)\n",
    "- end_file(파일 마지막 번호)\n",
    "- data_dir(데이터 폴더 위치)\n",
    "- sent_file(최종 txt 파일 이름, 위치)"
   ]
  },
  {
   "cell_type": "code",
   "execution_count": 102,
   "id": "b578b469",
   "metadata": {},
   "outputs": [],
   "source": [
    "start_file = 1000   # s2-corpus-000 등 파일 번호\n",
    "end_file = 1999\n",
    "data_dir = 'C:/Users/lynn1/OneDrive/바탕 화면/Capstone/data/open_research'\n",
    "\n",
    "# for i in range(start_file, end_file+1):\n",
    "#     old_name = data_dir + '/s2-corpus-00{}'.format(i)\n",
    "#     new_name = old_name + '.json'\n",
    "#     os.rename(old_name, new_name)"
   ]
  },
  {
   "cell_type": "code",
   "execution_count": null,
   "id": "925d5313",
   "metadata": {},
   "outputs": [],
   "source": [
    "whole_lst=[]\n",
    "nums=[]        # 작업한 파일 번호 저장"
   ]
  },
  {
   "cell_type": "code",
   "execution_count": 103,
   "id": "a5d00c95",
   "metadata": {
    "scrolled": false
   },
   "outputs": [
    {
     "name": "stdout",
     "output_type": "stream",
     "text": [
      "1200 > 19612|1201 > 39250|1202 > 58713|1203 > 78432|1204 > 98148|1205 > 117748|1206 > 137345|1207 > 156810|1208 > 176307|1209 > 195800|1210 > 215387|1211 > 234842|1212 > 254337|1213 > 273939|1214 > 293623|1215 > 313172|1216 > 332764|1217 > 352346|1218 > 371776|1219 > 391456|1220 > 410991|1221 > 430583|1222 > 450221|1223 > 469870|1224 > 489568|1225 > 509046|1226 > 528725|1227 > 548478|1228 > 568104|1229 > 587635|1230 > 607234|1231 > 626908|1232 > 646514|1233 > 666207|1234 > 685651|1235 > 705333|1236 > 724985|1237 > 744493|1238 > 763990|1239 > 783722|1240 > 803349|1241 > 822933|1242 > 842555|1243 > 862107|1244 > 881575|1245 > 901206|1246 > 920690|1247 > 940244|1248 > 959759|1249 > 979351|1250 > 998932|1251 > 1018326|1252 > 1038016|1253 > 1057538|1254 > 1077073|1255 > 1096707|1256 > 1116270|1257 > 1135900|1258 > 1155675|1259 > 1175177|1260 > 1194839|1261 > 1214356|1262 > 1233893|1263 > 1253349|1264 > 1272906|1265 > 1292440|1266 > 1312080|1267 > 1331512|1268 > 1351076|1269 > 1370557|1270 > 1390141|1271 > 1409628|1272 > 1429044|1273 > 1448755|1274 > 1468210|1275 > 1487819|1276 > 1507504|1277 > 1527018|1278 > 1546738|1279 > 1566228|1280 > 1585699|1281 > 1605299|1282 > 1624807|1283 > 1644376|1284 > 1664021|1285 > 1683584|1286 > 1703035|1287 > 1722670|1288 > 1742224|1289 > 1761750|1290 > 1781332|1291 > 1800734|1292 > 1820326|1293 > 1839815|1294 > 1859319|1295 > 1878965|1296 > 1898405|1297 > 1918094|1298 > 1937679|1299 > 1957255|1300 > 1976873|1301 > 1996375|1302 > 2016007|1303 > 2035592|1304 > 2055004|1305 > 2074557|1306 > 2094191|1307 > 2113880|1308 > 2133474|1309 > 2153063|1310 > 2172585|1311 > 2192142|1312 > 2211691|1313 > 2231292|1314 > 2250759|1315 > 2270363|1316 > 2289822|1317 > 2309326|1318 > 2328831|1319 > 2348343|1320 > 2367788|1321 > 2387271|1322 > 2406734|1323 > 2426474|1324 > 2446005|1325 > 2465659|1326 > 2485140|1327 > 2504659|1328 > 2524336|1329 > 2543698|1330 > 2563286|1331 > 2582841|1332 > 2602245|1333 > 2621733|1334 > 2641353|1335 > 2660950|1336 > 2680425|1337 > 2699871|1338 > 2719405|1339 > 2739026|1340 > 2758477|1341 > 2777956|1342 > 2797554|1343 > 2817113|1344 > 2836728|1345 > 2856229|1346 > 2875713|1347 > 2895188|1348 > 2914602|1349 > 2934255|1350 > 2953986|1351 > 2973678|1352 > 2993120|1353 > 3012666|1354 > 3032142|1355 > 3051802|1356 > 3071373|1357 > 3090971|1358 > 3110498|1359 > 3129958|1360 > 3149459|1361 > 3168844|1362 > 3188321|1363 > 3208060|1364 > 3227633|1365 > 3247310|1366 > 3266998|1367 > 3286476|1368 > 3306009|1369 > 3325490|1370 > 3344883|1371 > 3364618|1372 > 3384003|1373 > 3403598|1374 > 3423235|1375 > 3442730|1376 > 3462407|1377 > 3481945|1378 > 3501623|1379 > 3521195|1380 > 3540901|1381 > 3560591|1382 > 3580097|1383 > 3599788|1384 > 3619359|1385 > 3638966|1386 > 3658397|1387 > 3677791|1388 > 3697313|1389 > 3716893|1390 > 3736402|1391 > 3755948|1392 > 3775337|1393 > 3794905|1394 > 3814469|1395 > 3834112|1396 > 3853659|1397 > 3873326|1398 > 3892867|1399 > 3912434|"
     ]
    }
   ],
   "source": [
    "# paperAbstract 데이터만 추출\n",
    "print('appending...')\n",
    "for i in range(start_file, end_file+1):\n",
    "    if i<10:\n",
    "        idx = '00{}'.format(i)\n",
    "    elif i<100:\n",
    "        idx = '0{}'.format(i)\n",
    "    else:\n",
    "        idx = '{}'.format(i)\n",
    "        \n",
    "    with jsonlines.open(data_dir+'/s2-corpus-{}'.format(idx), 'r') as file:\n",
    "        data_lst = [line['paperAbstract'] for line in file if line['paperAbstract']!='']\n",
    "        whole_lst = whole_lst + data_lst\n",
    "    nums.append(i)\n",
    "    print('>'+str(i), end='')\n",
    "print('\\nlines:', len(whole_lst))"
   ]
  },
  {
   "cell_type": "code",
   "execution_count": 104,
   "id": "be24241e",
   "metadata": {},
   "outputs": [],
   "source": [
    "# 모든 코퍼스 파일의 paperAbstract 문장으로 분리하여 txt 파일에 저장(계속 이어씀)\n",
    "# whole_lst에 모든 데이터 저장 후 한번에 생성하기\n",
    "sent_file = open(data_dir+'/separate_sents(1000~1999).txt', 'a', encoding='utf-8')\n",
    "no_blank = False\n",
    "print('writing...')\n",
    "for i, line in enumerate(whole_lst):\n",
    "    if i%10000==0:\n",
    "        print('>'+str(i), end='')\n",
    "\n",
    "    if line=='':\n",
    "        break\n",
    "    if line.strip()=='':\n",
    "        if no_blank:\n",
    "            continue\n",
    "        sent_file.write(f'{line}')\n",
    "    else:\n",
    "        result_ = nltk.sent_tokenize(line)   # 문장 구조 학습한 모델 -> 약어에 쓰이는 마침표 등 학습됨\n",
    "        result = [f'{cul_line}\\n' for cul_line in result_]\n",
    "        for save_line in result:\n",
    "            sent_file.write(save_line)\n",
    "sent_file.close()"
   ]
  }
 ],
 "metadata": {
  "kernelspec": {
   "display_name": "pytorch_1",
   "language": "python",
   "name": "pytorch_1"
  },
  "language_info": {
   "codemirror_mode": {
    "name": "ipython",
    "version": 3
   },
   "file_extension": ".py",
   "mimetype": "text/x-python",
   "name": "python",
   "nbconvert_exporter": "python",
   "pygments_lexer": "ipython3",
   "version": "3.9.7"
  }
 },
 "nbformat": 4,
 "nbformat_minor": 5
}
