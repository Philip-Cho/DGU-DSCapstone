{
 "cells": [
  {
   "cell_type": "code",
   "execution_count": 2,
   "id": "778ba3f8",
   "metadata": {},
   "outputs": [],
   "source": [
    "from transformers import BartTokenizer, BartForConditionalGeneration"
   ]
  },
  {
   "cell_type": "code",
   "execution_count": 3,
   "id": "d26c09d3",
   "metadata": {},
   "outputs": [],
   "source": [
    "model_sci = BartForConditionalGeneration.from_pretrained(\"C:/Users/lynn1/OneDrive/바탕 화면/Capstone/output/finetuning_scitldr\")\n",
    "tokenizer_sci = BartTokenizer.from_pretrained(\"C:/Users/lynn1/OneDrive/바탕 화면/Capstone/output/tokenizer\")"
   ]
  },
  {
   "cell_type": "code",
   "execution_count": 4,
   "id": "7c304f21",
   "metadata": {},
   "outputs": [],
   "source": [
    "model_xsum = BartForConditionalGeneration.from_pretrained(\"C:/Users/lynn1/OneDrive/바탕 화면/Capstone/output/finetuning_xsum\")\n",
    "tokenizer_xsum = BartTokenizer.from_pretrained(\"C:/Users/lynn1/OneDrive/바탕 화면/Capstone/output/tokenizer\")"
   ]
  },
  {
   "cell_type": "code",
   "execution_count": 5,
   "id": "14f35680",
   "metadata": {},
   "outputs": [],
   "source": [
    "model_facebook = BartForConditionalGeneration.from_pretrained(\"facebook/bart-large-cnn\")\n",
    "tokenizer_facebook = BartTokenizer.from_pretrained(\"facebook/bart-large-cnn\")"
   ]
  },
  {
   "cell_type": "code",
   "execution_count": 19,
   "id": "f3f27486",
   "metadata": {},
   "outputs": [],
   "source": [
    "def summarize(text, model, tokenizer, max_length=50):\n",
    "    inputs = tokenizer([text], max_length=1024, return_tensors=\"pt\")\n",
    "    summary_ids = model.generate(inputs[\"input_ids\"], num_beams=5, min_length=0, max_length=max_length)\n",
    "    summary = tokenizer.batch_decode(summary_ids, skip_special_tokens=True, clean_up_tokenization_spaces=False)[0]\n",
    "    return summary"
   ]
  },
  {
   "cell_type": "markdown",
   "id": "0a49af32",
   "metadata": {},
   "source": [
    "test"
   ]
  },
  {
   "cell_type": "code",
   "execution_count": 20,
   "id": "4a9242c9",
   "metadata": {},
   "outputs": [
    {
     "name": "stdout",
     "output_type": "stream",
     "text": [
      "PG&E scheduled the blackouts in response to forecasts for high winds amid dry conditions. The aim is to reduce the risk of wildfires.\n"
     ]
    }
   ],
   "source": [
    "print(summarize(text, model_facebook, tokenizer_facebook))"
   ]
  },
  {
   "cell_type": "code",
   "execution_count": 21,
   "id": "da2d5261",
   "metadata": {},
   "outputs": [
    {
     "name": "stdout",
     "output_type": "stream",
     "text": [
      "We propose a scheduled to be affected by the shutoffs which were expected to last through at least midday tomorrow. ., and., a scheduled. the blackouts in response to forecasts for\n"
     ]
    }
   ],
   "source": [
    "print(summarize(text, model_sci, tokenizer_sci))"
   ]
  },
  {
   "cell_type": "code",
   "execution_count": 22,
   "id": "f21b734d",
   "metadata": {},
   "outputs": [
    {
     "name": "stdout",
     "output_type": "stream",
     "text": [
      "More than 1,000 people have been taken to hospital after a blackouts in south-east London. last month.. on Friday. at the end of the weekend..\n"
     ]
    }
   ],
   "source": [
    "print(summarize(text, model_xsum, tokenizer_xsum))"
   ]
  },
  {
   "cell_type": "code",
   "execution_count": 23,
   "id": "399df4e1",
   "metadata": {},
   "outputs": [
    {
     "name": "stdout",
     "output_type": "stream",
     "text": [
      "In this video, we'll talk about how to compute derivatives for you to implement gradient descent for logistic regression. The key takeaways will be what you need to implement. We'll provide the derivative formulas, along with what else you need.\n"
     ]
    }
   ],
   "source": [
    "print(summarize(script, model_facebook, tokenizer_facebook, max_length=100))"
   ]
  },
  {
   "cell_type": "code",
   "execution_count": 24,
   "id": "8900ceb0",
   "metadata": {},
   "outputs": [
    {
     "name": "stdout",
     "output_type": "stream",
     "text": [
      "We propose a new using the computation graph and for you a little bit of\n",
      "an overkill for deriving gradient descent for logistic regression,\n",
      "but I want to start explaining things this\n",
      "way to get you familiar with these ideas so that,\n",
      "hopefully, it will make a bit more sense when we talk about full-fledged neural networks.. to do this computation using a computation graph with respect to do in order to\n",
      "implement gradient descent,\n"
     ]
    }
   ],
   "source": [
    "print(summarize(script, model_sci, tokenizer_sci, max_length=100))"
   ]
  },
  {
   "cell_type": "markdown",
   "id": "670e3f55",
   "metadata": {},
   "source": [
    "We propose -> This video is about... ?"
   ]
  },
  {
   "cell_type": "code",
   "execution_count": 25,
   "id": "5d64be1a",
   "metadata": {},
   "outputs": [
    {
     "name": "stdout",
     "output_type": "stream",
     "text": [
      "In our series of letters from World War Two, I want to make a bit more sense when you need to implement. in order to reduce this loss.. on Wednesday. at the end of the year. that it will be the first time. to be the next step in a computation graph. the loss of DA. the world's first takeaways. it is a little bit of a video.\n"
     ]
    }
   ],
   "source": [
    "print(summarize(script, model_xsum, tokenizer_xsum, max_length=100))"
   ]
  },
  {
   "cell_type": "markdown",
   "id": "cdd4a65e",
   "metadata": {},
   "source": [
    "scripts"
   ]
  },
  {
   "cell_type": "code",
   "execution_count": 8,
   "id": "bd7bf537",
   "metadata": {},
   "outputs": [],
   "source": [
    "text = (\n",
    "    \"PG&E stated it scheduled the blackouts in response to forecasts for high winds \"\n",
    "    \"amid dry conditions. The aim is to reduce the risk of wildfires. Nearly 800 thousand customers were \"\n",
    "    \"scheduled to be affected by the shutoffs which were expected to last through at least midday tomorrow.\"\n",
    ")"
   ]
  },
  {
   "cell_type": "code",
   "execution_count": 9,
   "id": "a2b3b116",
   "metadata": {},
   "outputs": [],
   "source": [
    "script = \"\"\"Welcome back. In this video,\n",
    "we'll talk about how to compute derivatives for you\n",
    "to implement gradient descent for logistic regression.\n",
    "The key takeaways will be what you need to implement.\n",
    "That is, the key equations you need in order to\n",
    "implement gradient descent for logistic regression.\n",
    "In this video, I want to do this computation using the computation graph.\n",
    "I have to admit, using the computation graph is a little bit of\n",
    "an overkill for deriving gradient descent for logistic regression,\n",
    "but I want to start explaining things this\n",
    "way to get you familiar with these ideas so that,\n",
    "hopefully, it will make a bit more sense when we talk about full-fledged neural networks.\n",
    "To that, let's dive into gradient descent for logistic regression.\n",
    "To recap, we had set up logistic regression as follows,\n",
    "your predictions, Y_hat, is defined as follows,\n",
    "where z is that.\n",
    "If we focus on just one example for now, then the loss,\n",
    "or respect to that one example,\n",
    "is defined as follows,\n",
    "where A is the output of logistic regression,\n",
    "and Y is the ground truth label.\n",
    "Let's write this out as a computation graph and for this example,\n",
    "let's say we have only two features, X1 and X2.\n",
    "In order to compute Z,\n",
    "we'll need to input W1,\n",
    "W2, and B, in addition to the feature values X1, X2.\n",
    "These things, in a computational graph,\n",
    "get used to compute Z, which is W1,\n",
    "X1 + W2 X2 + B,\n",
    "rectangular box around that.\n",
    "Then, we compute Y_hat,\n",
    "or A = Sigma_of_Z,\n",
    "that's the next step in the computation graph, and then, finally,\n",
    "we compute L, AY,\n",
    "and I won't copy the formula again.\n",
    "In logistic regression, what we want to do is to modify the parameters,\n",
    "W and B, in order to reduce this loss.\n",
    "We've described the forward propagation steps of how you actually\n",
    "compute the loss on a single training example,\n",
    "now let's talk about how you can go backwards to compute the derivatives.\n",
    "Here's a cleaned-up version of the diagram.\n",
    "Because what we want to do is compute derivatives with respect to this loss,\n",
    "the first thing we want to do when going backwards is to\n",
    "compute the derivative of this loss with respect to,\n",
    "the script over there, with respect to this variable A.\n",
    "So, in the code,\n",
    "you just use DA to denote this variable.\n",
    "It turns out that if you are familiar with calculus,\n",
    "you could show that this ends up being -Y_over_A+1-Y_over_1-A.\n",
    "And the way you do that is you take the formula for the loss and,\n",
    "if you're familiar with calculus,\n",
    "you can compute the derivative with respect to the variable,\n",
    "lowercase A, and you get this formula.\n",
    "But if you're not familiar with calculus, don't worry about it.\n",
    "We'll provide the derivative formulas,\n",
    "what else you need, throughout this course.\n",
    "If you are an expert in calculus,\n",
    "I encourage you to look up the formula for the loss from\n",
    "their previous slide and try taking derivative with respect to A using calculus,\n",
    "but if you don't know enough calculus to do that, don't worry about it.\n",
    "Now, having computed this quantity of DA and\n",
    "the derivative or your final alpha variable with respect to A,\n",
    "you can then go backwards.\n",
    "It turns out that you can show DZ which,\n",
    "this is the part called variable name,\n",
    "this is going to be the derivative of the loss,\n",
    "with respect to Z, or for L,\n",
    "you could really write the loss including A and Y explicitly as parameters or not, right?\n",
    "Either type of notation is equally acceptable.\n",
    "We can show that this is equal to A-Y.\n",
    "Just a couple of comments only for those of you experts in calculus,\n",
    "if you're not expert in calculus, don't worry about it.\n",
    "But it turns out that this, DL DZ,\n",
    "this can be expressed as DL_DA_times_DA_DZ,\n",
    "and it turns out that DA DZ,\n",
    "this turns out to be A_times_1-A,\n",
    "and DL DA we have previously worked out over here,\n",
    "if you take these two quantities, DL DA,\n",
    "which is this term, together with DA DZ,\n",
    "which is this term, and just take these two things and multiply them.\n",
    "You can show that the equation simplifies to A-Y.\n",
    "That's how you derive it,\n",
    "and that this is really the chain rule that have briefly eluded to the form.\n",
    "Feel free to go through that calculation yourself if you are knowledgeable in calculus,\n",
    "but if you aren't, all you need to know is that you can compute\n",
    "DZ as A-Y and we've already done that calculus for you.\n",
    "Then, the final step in that computation is to go back to\n",
    "compute how much you need to change W and B.\n",
    "In particular, you can show that the derivative with respect to W1 and in quotes,\n",
    "call this DW1, that this is equal to X1_times_DZ.\n",
    "Then, similarly, DW2, which is how much you want to change W2,\n",
    "is X2_times_DZ and B,\n",
    "excuse me, DB is equal to DZ.\n",
    "If you want to do gradient descent with respect to just this one example,\n",
    "what you would do is the following;\n",
    "you would use this formula to compute DZ,\n",
    "and then use these formulas to compute DW1, DW2,\n",
    "and DB, and then you perform these updates.\n",
    "W1 gets updated as W1 minus,\n",
    "learning rate alpha, times DW1.\n",
    "W2 gets updated similarly,\n",
    "and B gets set as B minus the learning rate times DB.\n",
    "And so, this will be one step of grade with respect to a single example.\n",
    "You see in how to compute derivatives and implement\n",
    "gradient descent for logistic regression with respect to a single training example.\n",
    "But training logistic regression model,\n",
    "you have not just one training example given training sets of M training examples.\n",
    "In the next video,\n",
    "let's see how you can take these ideas and apply them to learning,\n",
    "not just from one example,\n",
    "but from an entire training set.\"\"\""
   ]
  },
  {
   "cell_type": "code",
   "execution_count": null,
   "id": "c50d3463",
   "metadata": {},
   "outputs": [],
   "source": []
  }
 ],
 "metadata": {
  "kernelspec": {
   "display_name": "pytorch_1",
   "language": "python",
   "name": "pytorch_1"
  },
  "language_info": {
   "codemirror_mode": {
    "name": "ipython",
    "version": 3
   },
   "file_extension": ".py",
   "mimetype": "text/x-python",
   "name": "python",
   "nbconvert_exporter": "python",
   "pygments_lexer": "ipython3",
   "version": "3.9.12"
  }
 },
 "nbformat": 4,
 "nbformat_minor": 5
}
