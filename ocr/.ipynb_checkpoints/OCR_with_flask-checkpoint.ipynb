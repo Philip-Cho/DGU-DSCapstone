{
 "cells": [
  {
   "cell_type": "code",
   "execution_count": null,
   "metadata": {},
   "outputs": [],
   "source": [
    "# !pip install flask_restful"
   ]
  },
  {
   "cell_type": "code",
   "execution_count": 1,
   "metadata": {},
   "outputs": [],
   "source": [
    "import re\n",
    "import json\n",
    "from google.protobuf.json_format import MessageToJson\n",
    "from google.cloud import vision\n",
    "from flask import Response\n",
    "\n",
    "# REST vision\n",
    "\n",
    "def detect_text(request):\n",
    "    client = vision.ImageAnnotatorClient()\n",
    "    image = vision.types.Image(content=request.data)\n",
    "    response = client.text_detection(image=image)\n",
    "    serialized = MessageToJson(response)\n",
    "    annotations = json.loads(serialized)\n",
    "\n",
    "    full_text = annotations['textAnnotations'][0]['description']\n",
    "    annotations = json.dumps(annotations)\n",
    "\n",
    "    r = Response(response=annotations, status=200, mimetype=\"application/json\")\n",
    "    return r\n",
    "\n",
    "def post_image(path, URL):\n",
    "    headers = {'content-type': 'image/jpeg'}\n",
    "    img = open(path, 'rb').read()\n",
    "    response = requests.post(URL, data=img, headers=headers)\n",
    "    return response"
   ]
  },
  {
   "cell_type": "code",
   "execution_count": 4,
   "metadata": {},
   "outputs": [
    {
     "name": "stdout",
     "output_type": "stream",
     "text": [
      " * Serving Flask app \"__main__\" (lazy loading)\n",
      " * Environment: production\n",
      "\u001b[31m   WARNING: This is a development server. Do not use it in a production deployment.\u001b[0m\n",
      "\u001b[2m   Use a production WSGI server instead.\u001b[0m\n",
      " * Debug mode: off\n"
     ]
    },
    {
     "name": "stderr",
     "output_type": "stream",
     "text": [
      " * Running on http://127.0.0.1:5000/ (Press CTRL+C to quit)\n"
     ]
    }
   ],
   "source": [
    "# flask 연동\n",
    "\n",
    "from flask import Flask\n",
    "from flask_restful import Resource, Api\n",
    "\n",
    "app = Flask(__name__)\n",
    "api = Api(app)\n",
    "\n",
    "class MyApi(Resource):\n",
    "    def get(self, date):\n",
    "        return {'date': 'if present'}\n",
    "\n",
    "api.add_resource(MyApi, '/')\n",
    "\n",
    "if __name__ == '__main__':\n",
    "    app.run()"
   ]
  }
 ],
 "metadata": {
  "kernelspec": {
   "display_name": "Python 3",
   "language": "python",
   "name": "python3"
  },
  "language_info": {
   "codemirror_mode": {
    "name": "ipython",
    "version": 3
   },
   "file_extension": ".py",
   "mimetype": "text/x-python",
   "name": "python",
   "nbconvert_exporter": "python",
   "pygments_lexer": "ipython3",
   "version": "3.7.9"
  }
 },
 "nbformat": 4,
 "nbformat_minor": 4
}
