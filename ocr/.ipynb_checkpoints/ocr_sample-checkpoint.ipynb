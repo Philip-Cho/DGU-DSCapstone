{
 "cells": [
  {
   "cell_type": "code",
   "execution_count": 2,
   "metadata": {},
   "outputs": [],
   "source": [
    "# !pip install --upgrade google-cloud-vision"
   ]
  },
  {
   "cell_type": "code",
   "execution_count": 1,
   "metadata": {},
   "outputs": [],
   "source": [
    "import io\n",
    "import os\n",
    "\n",
    "# Imports the Google Cloud client library\n",
    "from google.cloud import vision"
   ]
  },
  {
   "cell_type": "code",
   "execution_count": 2,
   "metadata": {},
   "outputs": [],
   "source": [
    "# Set environment variable\n",
    "os.environ[\"GOOGLE_APPLICATION_CREDENTIALS\"] = '/Users/philip_cho/Desktop/공부자료/동국대학교/5학년 1학기/데이터사이언스캡스톤디자인/api/#####.json'\n"
   ]
  },
  {
   "cell_type": "code",
   "execution_count": 3,
   "metadata": {},
   "outputs": [],
   "source": [
    "def text_detection(img_path):\n",
    "    # Instantiates a client\n",
    "    client = vision.ImageAnnotatorClient()\n",
    "    \n",
    "    # The name of the image file to annotate\n",
    "    file_name = os.path.abspath(img_path)\n",
    "\n",
    "    # Loads the image into memory\n",
    "    with io.open(file_name, 'rb') as image_file:\n",
    "        content = image_file.read()\n",
    "\n",
    "    image = vision.Image(content=content)\n",
    "\n",
    "    # Performs label detection on the image file\n",
    "    response = client.text_detection(image=image)\n",
    "    texts = response.text_annotations\n",
    "    text_list = list(map(lambda x: x.description, texts))\n",
    "\n",
    "    if response.error.message:\n",
    "        raise Exception(\n",
    "            '{}\\nFor more info on error messages, check: '\n",
    "            'https://cloud.google.com/apis/design/errors'.format(\n",
    "                response.error.message))\n",
    "\n",
    "    return text_list[0].split('\\n')"
   ]
  },
  {
   "cell_type": "code",
   "execution_count": 4,
   "metadata": {
    "scrolled": true
   },
   "outputs": [
    {
     "data": {
      "text/plain": [
       "['고급스러운 합성가죽',\n",
       " '고급스러움이 느껴지는 가죽으로',\n",
       " '이물질이 묻어도 쉽게 제거가 가능하며,',\n",
       " '정교한 박음질로 마감처리 되었습니다.',\n",
       " '사이드 지퍼와 밴딩처리',\n",
       " '사이드 안쪽에는 지퍼형태로',\n",
       " '신고벗기 편안하며, 겉 사이드에는',\n",
       " '타려이 H디워u2 1U비이 마치 지다',\n",
       " '']"
      ]
     },
     "execution_count": 4,
     "metadata": {},
     "output_type": "execute_result"
    }
   ],
   "source": [
    "text_detection('./img/sample.jpeg')"
   ]
  },
  {
   "cell_type": "code",
   "execution_count": 5,
   "metadata": {
    "scrolled": true
   },
   "outputs": [
    {
     "data": {
      "text/plain": [
       "['# f = w * X',\n",
       " '# f = 2 * X',\n",
       " 'np.array( [1, 2, 3, 41, dtype=np.float32)',\n",
       " 'np.array( [2, 4, 6, 81, dtype=np.float32)',\n",
       " 'X =',\n",
       " '%3D',\n",
       " 'Y =',\n",
       " 'W = 0.0',\n",
       " '# model prediction',\n",
       " 'def forward(x):',\n",
       " 'return w * X',\n",
       " '# loss = MSE',\n",
       " 'def loss(y, y_predicted):',\n",
       " '']"
      ]
     },
     "execution_count": 5,
     "metadata": {},
     "output_type": "execute_result"
    }
   ],
   "source": [
    "text_detection('./img/vscode.png')"
   ]
  },
  {
   "cell_type": "code",
   "execution_count": 6,
   "metadata": {},
   "outputs": [
    {
     "data": {
      "text/plain": [
       "['import matplotlib.pyplot| as plt',\n",
       " \"2 plt.plot([1,2,3,4], '[1,2,3,4])\",\n",
       " '3 plt.show()',\n",
       " 'AttributeError',\n",
       " 'Traceback (most recent call last)',\n",
       " '<ipython-input-8-71100e1a16fe> in <module>',\n",
       " '1 import matplotlib as plt',\n",
       " '----> 2 plt.plot([1,2,3,4], [1,2,3,4])',\n",
       " '3 plt.show()',\n",
       " '']"
      ]
     },
     "execution_count": 6,
     "metadata": {},
     "output_type": "execute_result"
    }
   ],
   "source": [
    "text_detection('./img/jupyter.png')"
   ]
  }
 ],
 "metadata": {
  "kernelspec": {
   "display_name": "Python 3",
   "language": "python",
   "name": "python3"
  },
  "language_info": {
   "codemirror_mode": {
    "name": "ipython",
    "version": 3
   },
   "file_extension": ".py",
   "mimetype": "text/x-python",
   "name": "python",
   "nbconvert_exporter": "python",
   "pygments_lexer": "ipython3",
   "version": "3.7.9"
  }
 },
 "nbformat": 4,
 "nbformat_minor": 4
}
